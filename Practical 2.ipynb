{
 "cells": [
  {
   "cell_type": "markdown",
   "id": "d979cce7",
   "metadata": {},
   "source": [
    "# Practical 2\n",
    "2. Implement a program for retrieval of documents using inverted files.\n"
   ]
  },
  {
   "cell_type": "code",
   "execution_count": 2,
   "id": "3f7b6157",
   "metadata": {},
   "outputs": [
    {
     "name": "stderr",
     "output_type": "stream",
     "text": [
      "[nltk_data] Downloading package punkt to\n",
      "[nltk_data]     C:\\Users\\hp\\AppData\\Roaming\\nltk_data...\n",
      "[nltk_data]   Package punkt is already up-to-date!\n"
     ]
    }
   ],
   "source": [
    "import nltk\n",
    "nltk.download('punkt')\n",
    "from nltk.tokenize import word_tokenize\n"
   ]
  },
  {
   "cell_type": "markdown",
   "id": "ca19492a",
   "metadata": {},
   "source": [
    "# Define Sample Documents and Tokenize with nltk"
   ]
  },
  {
   "cell_type": "code",
   "execution_count": 3,
   "id": "1050bcce",
   "metadata": {},
   "outputs": [],
   "source": [
    "# Sample documents\n",
    "documents = [\n",
    "    \"The quick brown fox jumps over the lazy dog.\",\n",
    "    \"The quick brown dog jumps over the fox!\",\n",
    "    \"Lazy dogs sleep quickly in the afternoon.\"\n",
    "]\n",
    "\n",
    "# Tokenize each document\n",
    "tokenized_docs = [word_tokenize(doc.lower()) for doc in documents]\n"
   ]
  },
  {
   "cell_type": "code",
   "execution_count": 4,
   "id": "1ec48b1d",
   "metadata": {},
   "outputs": [
    {
     "data": {
      "text/plain": [
       "[['the', 'quick', 'brown', 'fox', 'jumps', 'over', 'the', 'lazy', 'dog', '.'],\n",
       " ['the', 'quick', 'brown', 'dog', 'jumps', 'over', 'the', 'fox', '!'],\n",
       " ['lazy', 'dogs', 'sleep', 'quickly', 'in', 'the', 'afternoon', '.']]"
      ]
     },
     "execution_count": 4,
     "metadata": {},
     "output_type": "execute_result"
    }
   ],
   "source": [
    "tokenized_docs"
   ]
  },
  {
   "cell_type": "markdown",
   "id": "8a84d142",
   "metadata": {},
   "source": [
    "# Build the Inverted Index"
   ]
  },
  {
   "cell_type": "code",
   "execution_count": 5,
   "id": "6ab7938f",
   "metadata": {},
   "outputs": [],
   "source": [
    "# Create inverted index\n",
    "inverted_index = {}\n",
    "for doc_id, terms in enumerate(tokenized_docs):\n",
    "    for term in terms:\n",
    "        inverted_index.setdefault(term, []).append(doc_id)\n"
   ]
  },
  {
   "cell_type": "code",
   "execution_count": 6,
   "id": "442ea5bf",
   "metadata": {},
   "outputs": [
    {
     "data": {
      "text/plain": [
       "{'the': [0, 0, 1, 1, 2],\n",
       " 'quick': [0, 1],\n",
       " 'brown': [0, 1],\n",
       " 'fox': [0, 1],\n",
       " 'jumps': [0, 1],\n",
       " 'over': [0, 1],\n",
       " 'lazy': [0, 2],\n",
       " 'dog': [0, 1],\n",
       " '.': [0, 2],\n",
       " '!': [1],\n",
       " 'dogs': [2],\n",
       " 'sleep': [2],\n",
       " 'quickly': [2],\n",
       " 'in': [2],\n",
       " 'afternoon': [2]}"
      ]
     },
     "execution_count": 6,
     "metadata": {},
     "output_type": "execute_result"
    }
   ],
   "source": [
    "inverted_index"
   ]
  },
  {
   "cell_type": "markdown",
   "id": "89291c2d",
   "metadata": {},
   "source": [
    "# Define the Search Function"
   ]
  },
  {
   "cell_type": "code",
   "execution_count": 7,
   "id": "9606ca18",
   "metadata": {},
   "outputs": [],
   "source": [
    "# Function to search for documents containing all query terms\n",
    "def search(query):\n",
    "    query_terms = word_tokenize(query.lower())\n",
    "    result_docs = set(inverted_index.get(query_terms[0], []))\n",
    "    \n",
    "    for term in query_terms[1:]:\n",
    "        result_docs &= set(inverted_index.get(term, []))\n",
    "    \n",
    "    return list(result_docs)\n"
   ]
  },
  {
   "cell_type": "markdown",
   "id": "0338f71f",
   "metadata": {},
   "source": [
    "# Test the Search Function"
   ]
  },
  {
   "cell_type": "code",
   "execution_count": 8,
   "id": "3fc23d6d",
   "metadata": {},
   "outputs": [
    {
     "name": "stdout",
     "output_type": "stream",
     "text": [
      "Doc 0: The quick brown fox jumps over the lazy dog.\n",
      "Doc 1: The quick brown dog jumps over the fox!\n"
     ]
    }
   ],
   "source": [
    "# Test the search function\n",
    "query = \"quick fox\"\n",
    "matching_docs = search(query)\n",
    "\n",
    "# Output the matching documents\n",
    "for doc_id in matching_docs:\n",
    "    print(f\"Doc {doc_id}: {documents[doc_id]}\")\n"
   ]
  },
  {
   "cell_type": "code",
   "execution_count": null,
   "id": "c5fd2f8d",
   "metadata": {},
   "outputs": [],
   "source": []
  }
 ],
 "metadata": {
  "kernelspec": {
   "display_name": "Python 3 (ipykernel)",
   "language": "python",
   "name": "python3"
  },
  "language_info": {
   "codemirror_mode": {
    "name": "ipython",
    "version": 3
   },
   "file_extension": ".py",
   "mimetype": "text/x-python",
   "name": "python",
   "nbconvert_exporter": "python",
   "pygments_lexer": "ipython3",
   "version": "3.11.5"
  }
 },
 "nbformat": 4,
 "nbformat_minor": 5
}
