{
 "cells": [
  {
   "cell_type": "code",
   "execution_count": 1,
   "id": "446ad5a6",
   "metadata": {},
   "outputs": [],
   "source": [
    "# Define a simple link structure\n",
    "links = {\n",
    "    'A': ['B', 'C'],\n",
    "    'B': ['C'],\n",
    "    'C': ['A'],\n",
    "    'D': ['C']\n",
    "}\n"
   ]
  },
  {
   "cell_type": "code",
   "execution_count": 2,
   "id": "417724b0",
   "metadata": {},
   "outputs": [],
   "source": [
    "# Parameters\n",
    "damping = 0.85\n",
    "iterations = 100\n",
    "pages = list(links.keys())\n",
    "n = len(pages)\n",
    "\n",
    "# Initial PageRank for each page\n",
    "ranks = {page: 1 / n for page in pages}\n"
   ]
  },
  {
   "cell_type": "code",
   "execution_count": 3,
   "id": "ef0a92ba",
   "metadata": {},
   "outputs": [
    {
     "data": {
      "text/plain": [
       "{'A': 0.25, 'B': 0.25, 'C': 0.25, 'D': 0.25}"
      ]
     },
     "execution_count": 3,
     "metadata": {},
     "output_type": "execute_result"
    }
   ],
   "source": [
    "ranks"
   ]
  },
  {
   "cell_type": "code",
   "execution_count": 4,
   "id": "eb84a2fb",
   "metadata": {},
   "outputs": [],
   "source": [
    "for i in range(iterations):\n",
    "    new_ranks = {}\n",
    "    for page in pages:\n",
    "        # Calculate rank contributions from incoming links\n",
    "        incoming_links = [p for p in pages if page in links[p]]\n",
    "        rank_sum = sum(ranks[incoming] / len(links[incoming]) for incoming in incoming_links)\n",
    "        \n",
    "        # Apply the PageRank formula with damping\n",
    "        new_ranks[page] = (1 - damping) / n + damping * rank_sum\n",
    "\n",
    "    # Update ranks for the next iteration\n",
    "    ranks = new_ranks\n"
   ]
  },
  {
   "cell_type": "code",
   "execution_count": 5,
   "id": "41c33045",
   "metadata": {},
   "outputs": [
    {
     "data": {
      "text/plain": [
       "{'A': 0.372526851328434,\n",
       " 'B': 0.19582391181458444,\n",
       " 'C': 0.3941492368569812,\n",
       " 'D': 0.037500000000000006}"
      ]
     },
     "execution_count": 5,
     "metadata": {},
     "output_type": "execute_result"
    }
   ],
   "source": []
  },
  {
   "cell_type": "code",
   "execution_count": 6,
   "id": "43e8d2c4",
   "metadata": {},
   "outputs": [
    {
     "name": "stdout",
     "output_type": "stream",
     "text": [
      "PageRank Scores:\n",
      "A: 0.3725\n",
      "B: 0.1958\n",
      "C: 0.3941\n",
      "D: 0.0375\n"
     ]
    }
   ],
   "source": [
    "print(\"PageRank Scores:\")\n",
    "for page, rank in ranks.items():\n",
    "    print(f\"{page}: {rank:.4f}\")\n"
   ]
  },
  {
   "cell_type": "code",
   "execution_count": null,
   "id": "88e95477",
   "metadata": {},
   "outputs": [],
   "source": []
  },
  {
   "cell_type": "code",
   "execution_count": null,
   "id": "353994d3",
   "metadata": {},
   "outputs": [],
   "source": []
  }
 ],
 "metadata": {
  "kernelspec": {
   "display_name": "Python 3 (ipykernel)",
   "language": "python",
   "name": "python3"
  },
  "language_info": {
   "codemirror_mode": {
    "name": "ipython",
    "version": 3
   },
   "file_extension": ".py",
   "mimetype": "text/x-python",
   "name": "python",
   "nbconvert_exporter": "python",
   "pygments_lexer": "ipython3",
   "version": "3.11.5"
  }
 },
 "nbformat": 4,
 "nbformat_minor": 5
}
