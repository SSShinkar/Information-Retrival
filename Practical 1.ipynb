{
 "cells": [
  {
   "cell_type": "markdown",
   "id": "cd8e3ffd",
   "metadata": {},
   "source": [
    "# 1. Write a program for pre-processing of a text document such as stop word removal, stemming"
   ]
  },
  {
   "cell_type": "code",
   "execution_count": 1,
   "id": "00491d13",
   "metadata": {},
   "outputs": [
    {
     "name": "stderr",
     "output_type": "stream",
     "text": [
      "[nltk_data] Downloading package stopwords to\n",
      "[nltk_data]     C:\\Users\\hp\\AppData\\Roaming\\nltk_data...\n",
      "[nltk_data]   Package stopwords is already up-to-date!\n",
      "[nltk_data] Downloading package punkt to\n",
      "[nltk_data]     C:\\Users\\hp\\AppData\\Roaming\\nltk_data...\n",
      "[nltk_data]   Package punkt is already up-to-date!\n"
     ]
    },
    {
     "data": {
      "text/plain": [
       "True"
      ]
     },
     "execution_count": 1,
     "metadata": {},
     "output_type": "execute_result"
    }
   ],
   "source": [
    "import nltk\n",
    "from nltk.corpus import stopwords\n",
    "from nltk.tokenize import word_tokenize\n",
    "from nltk.stem import PorterStemmer\n",
    "\n",
    "# Download stopwords and punkt tokenizer models\n",
    "nltk.download('stopwords')\n",
    "nltk.download('punkt')\n"
   ]
  },
  {
   "cell_type": "code",
   "execution_count": 2,
   "id": "326db1cc",
   "metadata": {},
   "outputs": [
    {
     "name": "stdout",
     "output_type": "stream",
     "text": [
      "Original Text:\n",
      " Natural Language Processing (NLP) is a fascinating field of Artificial Intelligence that enables computers to interact with humans using natural language. \n",
      "Through various techniques, NLP helps machines understand, interpret, and even generate human language, making it highly valuable in applications like chatbots, \n",
      "language translation, and sentiment analysis. The complexity of human language, with its nuances, idioms, and cultural references, makes NLP a challenging but \n",
      "rewarding area of study.\n",
      "\n"
     ]
    }
   ],
   "source": [
    "# Load the text from example.txt\n",
    "with open(\"example.txt\", \"r\") as file:\n",
    "    text = file.read()\n",
    "\n",
    "print(\"Original Text:\\n\", text)\n"
   ]
  },
  {
   "cell_type": "markdown",
   "id": "0030a8d1",
   "metadata": {},
   "source": [
    "# Tokenize the text"
   ]
  },
  {
   "cell_type": "code",
   "execution_count": 3,
   "id": "1dfbab4f",
   "metadata": {},
   "outputs": [
    {
     "name": "stdout",
     "output_type": "stream",
     "text": [
      "Tokenized Words:\n",
      " ['Natural', 'Language', 'Processing', '(', 'NLP', ')', 'is', 'a', 'fascinating', 'field', 'of', 'Artificial', 'Intelligence', 'that', 'enables', 'computers', 'to', 'interact', 'with', 'humans', 'using', 'natural', 'language', '.', 'Through', 'various', 'techniques', ',', 'NLP', 'helps', 'machines', 'understand', ',', 'interpret', ',', 'and', 'even', 'generate', 'human', 'language', ',', 'making', 'it', 'highly', 'valuable', 'in', 'applications', 'like', 'chatbots', ',', 'language', 'translation', ',', 'and', 'sentiment', 'analysis', '.', 'The', 'complexity', 'of', 'human', 'language', ',', 'with', 'its', 'nuances', ',', 'idioms', ',', 'and', 'cultural', 'references', ',', 'makes', 'NLP', 'a', 'challenging', 'but', 'rewarding', 'area', 'of', 'study', '.']\n"
     ]
    }
   ],
   "source": [
    "# Tokenize the text into words\n",
    "tokens = word_tokenize(text)\n",
    "print(\"Tokenized Words:\\n\", tokens)\n"
   ]
  },
  {
   "cell_type": "markdown",
   "id": "21e3aab5",
   "metadata": {},
   "source": [
    "# Remove stop words\n",
    "\n"
   ]
  },
  {
   "cell_type": "code",
   "execution_count": 13,
   "id": "b99578a2",
   "metadata": {},
   "outputs": [
    {
     "name": "stdout",
     "output_type": "stream",
     "text": [
      "stop words:\n",
      " {'out', 'on', 'don', 'other', 'until', 'through', 'where', 'i', 'same', \"didn't\", 'her', 'some', \"aren't\", 'because', 'mightn', 'itself', 'but', 'against', 'about', 'will', 'an', 'its', 's', 'once', 'them', 'o', 'had', 'haven', 'should', 'now', \"doesn't\", 'after', 'from', 'who', 'couldn', 'ain', \"it's\", 'are', 'that', 'll', 'have', \"you'll\", 'there', 'so', 'myself', 'd', 'their', 'am', 'my', \"hasn't\", 'off', 'hers', 'during', 'be', 'again', 'having', 'he', 'any', 'him', 'as', 'the', 'being', \"that'll\", 'down', 'has', 'is', 'for', 'above', 'these', 'few', \"shan't\", 'shouldn', 'yourself', \"shouldn't\", 'hadn', \"she's\", 'this', 'how', 'doing', 'your', 'a', 'with', 'ours', 'our', 'more', \"haven't\", \"weren't\", 'been', 'me', 'his', \"wasn't\", 'were', 'by', 're', 'was', 'most', 'own', \"should've\", 'you', \"isn't\", 'mustn', 'into', \"mustn't\", 'do', 'wasn', 'too', \"you'd\", 'herself', 'why', \"wouldn't\", 'what', 'did', \"hadn't\", 'doesn', \"needn't\", \"won't\", 'm', 'all', 'himself', 'than', 'in', 'ourselves', 'not', 'only', 'yours', 'between', 'if', 'whom', 'before', 'won', 'to', 'while', 'very', 'does', 'wouldn', 'they', 'at', \"don't\", 'can', 'when', 'theirs', 'those', 've', 'shan', 'ma', 'each', 'themselves', \"couldn't\", 'she', 'under', 'needn', 'no', 'over', 'aren', 'which', 'we', 'both', \"you're\", 'of', 'here', 'or', \"mightn't\", 'below', \"you've\", 'it', 'up', 't', 'didn', 'and', 'weren', 'nor', 'then', 'yourselves', 'further', 'just', 'y', 'isn', 'hasn', 'such'}\n"
     ]
    }
   ],
   "source": [
    "stop_words = set(stopwords.words('english'))  # it show stop word in english\n",
    "print(\"stop words:\\n\",stop_words)"
   ]
  },
  {
   "cell_type": "code",
   "execution_count": 14,
   "id": "cbe0117c",
   "metadata": {},
   "outputs": [
    {
     "name": "stdout",
     "output_type": "stream",
     "text": [
      "filter token:\n",
      " ['Natural', 'Language', 'Processing', '(', 'NLP', ')', 'fascinating', 'field', 'Artificial', 'Intelligence', 'enables', 'computers', 'interact', 'humans', 'using', 'natural', 'language', '.', 'various', 'techniques', ',', 'NLP', 'helps', 'machines', 'understand', ',', 'interpret', ',', 'even', 'generate', 'human', 'language', ',', 'making', 'highly', 'valuable', 'applications', 'like', 'chatbots', ',', 'language', 'translation', ',', 'sentiment', 'analysis', '.', 'complexity', 'human', 'language', ',', 'nuances', ',', 'idioms', ',', 'cultural', 'references', ',', 'makes', 'NLP', 'challenging', 'rewarding', 'area', 'study', '.']\n"
     ]
    }
   ],
   "source": [
    "# Remove stop words from the tokenized words\n",
    "filtered_token=[]\n",
    "for word in tokens:\n",
    "    if word.lower() not in stop_words:\n",
    "        filtered_token.append(word)\n",
    "print(\"filter token:\\n\",filtered_token)"
   ]
  },
  {
   "cell_type": "markdown",
   "id": "00b2a84e",
   "metadata": {},
   "source": [
    "# Apply stemming"
   ]
  },
  {
   "cell_type": "code",
   "execution_count": 19,
   "id": "d18a3881",
   "metadata": {},
   "outputs": [
    {
     "name": "stdout",
     "output_type": "stream",
     "text": [
      "Stemmed_tokens:\n",
      " ['natur', 'languag', 'process', '(', 'nlp', ')', 'fascin', 'field', 'artifici', 'intellig', 'enabl', 'comput', 'interact', 'human', 'use', 'natur', 'languag', '.', 'variou', 'techniqu', ',', 'nlp', 'help', 'machin', 'understand', ',', 'interpret', ',', 'even', 'gener', 'human', 'languag', ',', 'make', 'highli', 'valuabl', 'applic', 'like', 'chatbot', ',', 'languag', 'translat', ',', 'sentiment', 'analysi', '.', 'complex', 'human', 'languag', ',', 'nuanc', ',', 'idiom', ',', 'cultur', 'refer', ',', 'make', 'nlp', 'challeng', 'reward', 'area', 'studi', '.']\n"
     ]
    }
   ],
   "source": [
    "stemmer = PorterStemmer() #create a object of PorterStemmer\n",
    "\n",
    "# Apply stemming to the filtered tokens\n",
    "stemmed_token=[]\n",
    "for word in filtered_tokens:\n",
    "    stemmed_token.append(stemmer.stem(word))\n",
    "print(\"Stemmed_tokens:\\n\",stemmed_token)"
   ]
  },
  {
   "cell_type": "code",
   "execution_count": null,
   "id": "c61a884d",
   "metadata": {},
   "outputs": [],
   "source": []
  }
 ],
 "metadata": {
  "kernelspec": {
   "display_name": "Python 3 (ipykernel)",
   "language": "python",
   "name": "python3"
  },
  "language_info": {
   "codemirror_mode": {
    "name": "ipython",
    "version": 3
   },
   "file_extension": ".py",
   "mimetype": "text/x-python",
   "name": "python",
   "nbconvert_exporter": "python",
   "pygments_lexer": "ipython3",
   "version": "3.11.5"
  }
 },
 "nbformat": 4,
 "nbformat_minor": 5
}
